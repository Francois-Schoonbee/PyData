{
 "cells": [
  {
   "cell_type": "markdown",
   "metadata": {},
   "source": [
    "# Python for Data Science\n",
    "## Session 3\n",
    "### Object Oriented Programming"
   ]
  },
  {
   "cell_type": "markdown",
   "metadata": {},
   "source": [
    "---"
   ]
  },
  {
   "cell_type": "markdown",
   "metadata": {},
   "source": [
    "## Outline\n",
    "1. Classes and objects\n",
    "2. Abstraction and Inheritance\n",
    "3. Polymorphism and Encapsulation"
   ]
  },
  {
   "cell_type": "markdown",
   "metadata": {},
   "source": [
    "---"
   ]
  },
  {
   "cell_type": "markdown",
   "metadata": {},
   "source": [
    "## Object Oriented programming\n",
    "\n",
    "In Data science there are three different types of programming paradigms:\n",
    "\n",
    "1. **Object-oriented programming** organizes code using objects that represent real-world entities. It provides modularity, code reuse and abstraction, making it suitable for handling large and complex applications.\n",
    "\n",
    "2. **Functional programming** emphasizes the use of **pure functions** that can be easily composed and reused, ideal for transforming data.\n",
    "\n",
    "3. **Declarative programming** consists in specifyin what the program should accomplish, rather than how to accomplish it.\n",
    "\n"
   ]
  },
  {
   "cell_type": "markdown",
   "metadata": {},
   "source": [
    "**Pure functions** are functions that always produce the same output for the same input and haven't got any side effects, meaning it does not modify external states or variables."
   ]
  },
  {
   "cell_type": "markdown",
   "metadata": {},
   "source": [
    "---"
   ]
  },
  {
   "cell_type": "markdown",
   "metadata": {},
   "source": [
    "## Object Oriented programming\n",
    "\n",
    "OOP main concepts are:\n",
    "\n",
    "1. **Class**: A template to create objects.\n",
    "2. **Object**: An instance of a class, representing a specific entity.\n",
    "3. **Attributes**: Properties of an object (variables within a class that define it).\n",
    "4. **Methods**: Actions that objects can perform (functions within a class)."
   ]
  },
  {
   "cell_type": "code",
   "execution_count": 3,
   "metadata": {},
   "outputs": [],
   "source": [
    "class Pet:\n",
    "    def __init__(self, name): # constructor\n",
    "            self.name = name"
   ]
  },
  {
   "cell_type": "code",
   "execution_count": 4,
   "metadata": {},
   "outputs": [],
   "source": [
    "my_pet = Pet('Rock') # Instance of a class"
   ]
  },
  {
   "cell_type": "code",
   "execution_count": 5,
   "metadata": {},
   "outputs": [],
   "source": [
    "# Note: self refers to the instance of the class and is used to access its attributes and methods\n",
    "class Pet:\n",
    "    def __init__(self, name): # constructor\n",
    "        self.name = name"
   ]
  },
  {
   "cell_type": "code",
   "execution_count": 6,
   "metadata": {},
   "outputs": [],
   "source": [
    "class Pet:\n",
    "    def __init__(self, name): # constructor\n",
    "        self.name = name # Instance attribute\n",
    "        self.age = None # Instance attribute set to None\n",
    "\n",
    "    def set_age(self, age): # Method\n",
    "        self.age = age"
   ]
  },
  {
   "cell_type": "code",
   "execution_count": 7,
   "metadata": {},
   "outputs": [
    {
     "data": {
      "text/plain": [
       "4"
      ]
     },
     "execution_count": 7,
     "metadata": {},
     "output_type": "execute_result"
    }
   ],
   "source": [
    "my_pet = Pet('Rock')\n",
    "my_pet.set_age(4)\n",
    "my_pet.age"
   ]
  },
  {
   "cell_type": "markdown",
   "metadata": {},
   "source": [
    "---"
   ]
  },
  {
   "cell_type": "markdown",
   "metadata": {},
   "source": [
    "## Object Oriented programming\n",
    "### Abstraction\n",
    "\n",
    "Abstraction consists in hiding any variables and internal parts of an object that don’t need to be shown during interaction. Making only available the essential functionalities.\n",
    "\n",
    "You may want to call a method from an object that searches for something in an internal list, and in this case, you don't need to see the algorithm behind it, you just need to call the method and get what you want."
   ]
  },
  {
   "cell_type": "markdown",
   "metadata": {},
   "source": [
    "## Object Oriented programming\n",
    "### Inheritance\n",
    "\n",
    "Inheritance permits any class to inherit attributes and methods from another class. This reduces code duplication and enables the creation of specialized classes based on general ones."
   ]
  },
  {
   "cell_type": "code",
   "execution_count": 8,
   "metadata": {},
   "outputs": [],
   "source": [
    "class Pet:\n",
    "    def __init__(self, age, name): # Constructor\n",
    "        self.age = age # Attribute\n",
    "        self.name = name # Attribute\n",
    "\n",
    "    def describe(self): # Method\n",
    "        print(f\"This pet's name is {self.name}.\")\n",
    "\n",
    "class Dog(Pet):\n",
    "    def __init__(self, age, name, breed): # Constructor\n",
    "        super().__init__(age, name)  # Call the parent class's __init__ method\n",
    "        self.breed = breed # New attribute for this specialized class\n",
    "\n",
    "    def describe(self):\n",
    "        super().describe()  # Call the parent class's describe method\n",
    "        print(f\"This dog is {self.age} years old and is a {self.breed}.\")"
   ]
  },
  {
   "cell_type": "code",
   "execution_count": 9,
   "metadata": {},
   "outputs": [],
   "source": [
    "my_dog = Dog(3, 'Rock', 'Great Dane')"
   ]
  },
  {
   "cell_type": "code",
   "execution_count": 10,
   "metadata": {},
   "outputs": [
    {
     "name": "stdout",
     "output_type": "stream",
     "text": [
      "This pet's name is Rock.\n",
      "This dog is 3 years old and is a Great Dane.\n"
     ]
    }
   ],
   "source": [
    "my_dog.describe()"
   ]
  },
  {
   "cell_type": "markdown",
   "metadata": {},
   "source": [
    "---"
   ]
  },
  {
   "cell_type": "markdown",
   "metadata": {},
   "source": [
    "## Object Oriented programming\n",
    "### Polymorphism\n",
    "\n",
    "It allows the same method name to behave differently based on the object calling it, which can be achieved through method overriding."
   ]
  },
  {
   "cell_type": "code",
   "execution_count": 11,
   "metadata": {},
   "outputs": [],
   "source": [
    "class Cat(Pet):\n",
    "    def __init__(self, age, name, breed): # Constructor\n",
    "        super().__init__(age, name)  # Call the parent class's __init__ method\n",
    "        self.breed = breed # New attribute for this specialized class\n",
    "\n",
    "    def describe(self): # Method\n",
    "        print(f\"This super cat is {self.age} years old and is a {self.breed}.\")"
   ]
  },
  {
   "cell_type": "code",
   "execution_count": 12,
   "metadata": {},
   "outputs": [
    {
     "name": "stdout",
     "output_type": "stream",
     "text": [
      "This super cat is 7 years old and is a Siamese.\n"
     ]
    }
   ],
   "source": [
    "my_cat = Cat(7, 'Bella', 'Siamese')\n",
    "my_cat.describe()"
   ]
  },
  {
   "cell_type": "markdown",
   "metadata": {},
   "source": [
    "---"
   ]
  },
  {
   "cell_type": "markdown",
   "metadata": {},
   "source": [
    "## Object Oriented programming\n",
    "### Encapsulation\n",
    "\n",
    "It consists in restricting access to variables and methods outside the object. This way we ensure the integrity of the data within the object.\n",
    "\n",
    "In python, prefixing a variable or method name with an underscore **_** indicates that it is intended for internal use only, while a double underscore **__** modifies the variable name for better encapsulation.\n",
    "\n",
    "It is worth mentioning that this is a convention, and variables and methods are still accessible."
   ]
  },
  {
   "cell_type": "code",
   "execution_count": 13,
   "metadata": {},
   "outputs": [],
   "source": [
    "class Student:\n",
    "    def __init__(self, name, age, address=None):\n",
    "        self.name = name # Public attribute\n",
    "        self._age =   age # Private attribute\n",
    "        self._address = address  # Private attribute\n",
    "\n",
    "    def get_address(self): # Method\n",
    "        return self._address\n",
    "\n",
    "    def set_address(self, address): # Method\n",
    "        address = ''.join(filter(self._remove_special_characters, address))\n",
    "        self._address = address\n",
    "\n",
    "    def _remove_special_characters(self, character): # Private method\n",
    "        if character.isalnum() or character == ' ' or character == '-':\n",
    "            return True\n",
    "        else:\n",
    "            return False\n"
   ]
  },
  {
   "cell_type": "code",
   "execution_count": 14,
   "metadata": {},
   "outputs": [
    {
     "name": "stdout",
     "output_type": "stream",
     "text": [
      "The student named Joan has the following address: Avinguda Buenos Aires nº 31 7e-1a\n"
     ]
    }
   ],
   "source": [
    "student = Student(\"Joan\", 24)\n",
    "student.set_address(\"Avinguda Buenos Aires nº 31! 7e-1a\")\n",
    "print(f\"The student named {student.name} has the following address: {student.get_address()}\")"
   ]
  },
  {
   "cell_type": "markdown",
   "metadata": {},
   "source": [
    "---"
   ]
  },
  {
   "cell_type": "markdown",
   "metadata": {},
   "source": [
    "## Object Oriented programming\n",
    "### Hands on\n",
    "\n",
    "Let's design a course registration system, where the requirements will be:\n",
    "\n",
    "1. Create a **Course** class, where each course has a name, a description and a list of enrolled students. You'll need to implement the next methods:\n",
    "    - Add a student to the course.\n",
    "    - Remove a student from the course.\n",
    "    - Show all students in the course."
   ]
  },
  {
   "cell_type": "code",
   "execution_count": 15,
   "metadata": {},
   "outputs": [
    {
     "name": "stdout",
     "output_type": "stream",
     "text": [
      "Python is taken by ['Francois', 'John', 'Steve', 'Carl', 'Lewis', 'Seleem']\n",
      "Python is taken by ['John', 'Steve', 'Carl', 'Lewis', 'Seleem']\n"
     ]
    }
   ],
   "source": [
    "class Course:\n",
    "    def __init__(self, name, course_type):\n",
    "        self.name = name # Public attribute\n",
    "        self.course_type = course_type\n",
    "        self.students = list() # []\n",
    "\n",
    "    def add_student(self, student):\n",
    "        self.students.append(student)\n",
    "    \n",
    "    def remove_student(self, student):\n",
    "        self.students.remove(student)\n",
    "    \n",
    "    def show_student(self):\n",
    "        print(f'{self.name} is taken by {self.students}')\n",
    "\n",
    "\n",
    "x_course = Course('Python','Coding in Python')\n",
    "x_course.add_student('Francois')\n",
    "x_course.add_student('John')\n",
    "x_course.add_student('Steve')\n",
    "x_course.add_student('Carl')\n",
    "x_course.add_student('Lewis')\n",
    "x_course.add_student('Seleem')\n",
    "x_course.show_student()\n",
    "x_course.remove_student('Francois')\n",
    "x_course.show_student()\n",
    "                        "
   ]
  },
  {
   "cell_type": "markdown",
   "metadata": {},
   "source": [
    "## Object Oriented programming\n",
    "### Hands on\n",
    "\n",
    "2. Create a **Student** class, where each student has a name, ID number, address and a list of enrolled courses with the following methods:\n",
    "    - Enroll in a course.\n",
    "    - Drop a course.\n",
    "    - Show all registered student courses."
   ]
  },
  {
   "cell_type": "code",
   "execution_count": 16,
   "metadata": {},
   "outputs": [
    {
     "name": "stdout",
     "output_type": "stream",
     "text": [
      "Francois is enrolled in []\n",
      "Francois is enrolled in ['Python', 'BIP', 'Data Science', 'Math']\n",
      "Francois is enrolled in ['Python', 'Data Science']\n"
     ]
    }
   ],
   "source": [
    "class Student:\n",
    "    def __init__(self, name, student_id,address):\n",
    "        self.name = name # Public attribute\n",
    "        self.student_id = student_id\n",
    "        self.address = address\n",
    "        self.courses = list()\n",
    "\n",
    "    def enroll(self,course):\n",
    "        self.courses.append(course)\n",
    "\n",
    "    def drop(self,course):\n",
    "        self.courses.remove(course)\n",
    "\n",
    "    def show_courses(self):\n",
    "        print(f'{self.name} is enrolled in {self.courses}')\n",
    "\n",
    "\n",
    "x_student = Student('Francois',23535121,'Johan Seb 3')\n",
    "\n",
    "x_student.show_courses()\n",
    "x_student.enroll('Python')\n",
    "x_student.enroll('BIP')\n",
    "x_student.enroll('Data Science')\n",
    "x_student.enroll('Math')\n",
    "x_student.show_courses()\n",
    "x_student.drop('Math')\n",
    "x_student.drop('BIP')\n",
    "x_student.show_courses()"
   ]
  },
  {
   "cell_type": "markdown",
   "metadata": {},
   "source": [
    "## Object Oriented programming\n",
    "### Hands on\n",
    "\n",
    "3. Create a central class that manages courses and students, **Registration** class, where you have a list of students and a list of courses, and methods:\n",
    "    - Enroll in a course.\n",
    "    - Drop a course.\n",
    "    - Show all the enrolled courses.\n",
    "    - Show all the students."
   ]
  },
  {
   "cell_type": "code",
   "execution_count": 17,
   "metadata": {},
   "outputs": [
    {
     "name": "stdout",
     "output_type": "stream",
     "text": [
      "Students enrolled in Math: ['Fran', 'Kyle']\n",
      "Courses Fran is enrolled in: ['Math', 'Eng', 'Phys']\n"
     ]
    }
   ],
   "source": [
    "class Registrar:\n",
    "    def __init__(self):\n",
    "        self.students = list()\n",
    "        self.courses = list()\n",
    "        self.enrollments = {}\n",
    "    \n",
    "    def addcourse(self,course):\n",
    "        self.courses.append(course)\n",
    "        self.enrollments[course] = []\n",
    "    \n",
    "    def addstudent(self,student):\n",
    "        self.students.append(student)\n",
    "\n",
    "    def enroll(self, student, course):\n",
    "        if course not in self.enrollments:\n",
    "            print(f\"Course {course} does not exist.\")\n",
    "            return\n",
    "        if student not in self.students:\n",
    "            print(f\"Student {student} does not exist.\")\n",
    "            return\n",
    "        self.enrollments[course].append(student)\n",
    "\n",
    "    def showstudents(self, course):\n",
    "        if course not in self.enrollments:\n",
    "            print(f\"Course {course} does not exist.\")\n",
    "            return\n",
    "        enroll_stu = self.enrollments[course]\n",
    "        print(f\"Students enrolled in {course}: {enroll_stu}\")\n",
    "    \n",
    "    def showcourse(self, student):\n",
    "        if student not in self.students:\n",
    "            print(f\"Student {student} does not exist.\")\n",
    "            return\n",
    "        enroll_course = [course for course, students in self.enrollments.items() if student in students]\n",
    "        print(f\"Courses {student} is enrolled in: {enroll_course}\")\n",
    "        \n",
    "\n",
    "\n",
    "\n",
    "x_reg = Registrar()\n",
    "x_reg.addcourse('Math')\n",
    "x_reg.addcourse('Eng')\n",
    "x_reg.addcourse('Phys')\n",
    "x_reg.addstudent('Fran')\n",
    "x_reg.addstudent('Kyle')\n",
    "x_reg.addstudent('John')\n",
    "x_reg.enroll('Fran','Math')\n",
    "x_reg.enroll('Kyle','Math')\n",
    "x_reg.enroll('Fran','Eng')\n",
    "x_reg.enroll('John','Phys')\n",
    "x_reg.enroll('Fran','Phys')\n",
    "x_reg.showstudents('Math')\n",
    "x_reg.showcourse('Fran')\n"
   ]
  },
  {
   "cell_type": "markdown",
   "metadata": {},
   "source": [
    "## Object Oriented programming\n",
    "### Howework\n",
    "\n",
    "4. Let's add grades to each student's course and create method that yields the GPA given a student name or ID."
   ]
  },
  {
   "cell_type": "code",
   "execution_count": 18,
   "metadata": {},
   "outputs": [
    {
     "name": "stdout",
     "output_type": "stream",
     "text": [
      "Students enrolled in Math: {'Fran': 100, 'Kyle': 90}\n",
      "Courses Fran is enrolled in: ['Math', 'Eng', 'Phys']\n",
      "Fran has a GPA of 78.33333333333333\n",
      "Kyle has a GPA of 90.0\n"
     ]
    }
   ],
   "source": [
    "class Registrar:\n",
    "    def __init__(self):\n",
    "        self.students = list()\n",
    "        self.courses = list()\n",
    "        self.enrollments = {}\n",
    "    \n",
    "    def addcourse(self,course):\n",
    "        self.courses.append(course)\n",
    "        self.enrollments[course] = {}\n",
    "    \n",
    "    def addstudent(self,student):\n",
    "        self.students.append(student)\n",
    "\n",
    "    def enroll(self, student, course):\n",
    "        self.enrollments[course][student] = None\n",
    "\n",
    "    def showstudents(self, course):\n",
    "        enroll_stu = self.enrollments[course]\n",
    "        print(f\"Students enrolled in {course}: {enroll_stu}\")\n",
    "    \n",
    "    def showcourse(self, student):\n",
    "        enroll_course = [course for course, students in self.enrollments.items() if student in students]\n",
    "        print(f\"Courses {student} is enrolled in: {enroll_course}\")\n",
    "\n",
    "    def addgrade(self,student,course,grade):\n",
    "        self.enrollments[course][student] = grade\n",
    "    \n",
    "    def gpa(self,student):\n",
    "        sum_grade = 0\n",
    "        num_course = 0\n",
    "        for course, students in self.enrollments.items():\n",
    "            if student in students:  # Ensure student has a grade\n",
    "                sum_grade += students[student]  # Sum the grades\n",
    "                num_course += 1\n",
    "\n",
    "        print(f'{student} has a GPA of {sum_grade/num_course}')\n",
    "\n",
    "        \n",
    "\n",
    "\n",
    "\n",
    "x_reg = Registrar()\n",
    "x_reg.addcourse('Math')\n",
    "x_reg.addcourse('Eng')\n",
    "x_reg.addcourse('Phys')\n",
    "x_reg.addstudent('Fran')\n",
    "x_reg.addstudent('Kyle')\n",
    "x_reg.addstudent('John')\n",
    "x_reg.enroll('Fran','Math')\n",
    "x_reg.enroll('Kyle','Math')\n",
    "x_reg.enroll('Fran','Eng')\n",
    "x_reg.enroll('John','Phys')\n",
    "x_reg.enroll('Fran','Phys')\n",
    "\n",
    "x_reg.addgrade('Fran','Math',100)\n",
    "x_reg.addgrade('Fran','Eng',50)\n",
    "x_reg.addgrade('Fran','Phys',85)\n",
    "x_reg.addgrade('Kyle','Math',90)\n",
    "\n",
    "\n",
    "x_reg.showstudents('Math')\n",
    "x_reg.showcourse('Fran')\n",
    "\n",
    "x_reg.gpa('Fran')\n",
    "x_reg.gpa('Kyle')"
   ]
  },
  {
   "cell_type": "markdown",
   "metadata": {},
   "source": [
    "## That's all!"
   ]
  }
 ],
 "metadata": {
  "kernelspec": {
   "display_name": "Python 3",
   "language": "python",
   "name": "python3"
  },
  "language_info": {
   "codemirror_mode": {
    "name": "ipython",
    "version": 3
   },
   "file_extension": ".py",
   "mimetype": "text/x-python",
   "name": "python",
   "nbconvert_exporter": "python",
   "pygments_lexer": "ipython3",
   "version": "3.12.7"
  }
 },
 "nbformat": 4,
 "nbformat_minor": 2
}
