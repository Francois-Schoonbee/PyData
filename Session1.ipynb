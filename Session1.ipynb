{
 "cells": [
  {
   "cell_type": "code",
   "execution_count": 1,
   "metadata": {},
   "outputs": [
    {
     "name": "stdout",
     "output_type": "stream",
     "text": [
      "Hello, Python!\n"
     ]
    }
   ],
   "source": [
    "print(\"Hello, Python!\")"
   ]
  },
  {
   "cell_type": "code",
   "execution_count": 4,
   "metadata": {},
   "outputs": [
    {
     "name": "stdout",
     "output_type": "stream",
     "text": [
      "15\n",
      "-5\n",
      "50\n",
      "0.5\n"
     ]
    }
   ],
   "source": [
    "a = 5\n",
    "b = 10\n",
    "print(a+b)\n",
    "print(a-b)\n",
    "print(a*b)\n",
    "print(a/b)"
   ]
  },
  {
   "cell_type": "code",
   "execution_count": 8,
   "metadata": {},
   "outputs": [
    {
     "name": "stdout",
     "output_type": "stream",
     "text": [
      "Hello, Francois!\n"
     ]
    }
   ],
   "source": [
    "name= 'Francois'\n",
    "print(f'Hello, {name}!')"
   ]
  },
  {
   "cell_type": "code",
   "execution_count": 17,
   "metadata": {},
   "outputs": [
    {
     "name": "stdout",
     "output_type": "stream",
     "text": [
      "['ESADE', 'UAB', 'Harvard', 'MIT', 'IE']\n",
      "ESADE IE\n"
     ]
    }
   ],
   "source": [
    "universities = ['ESADE','UAB','Harvard','MIT','IE']\n",
    "print(universities)\n",
    "print(universities[0],universities[-1])"
   ]
  },
  {
   "cell_type": "code",
   "execution_count": 26,
   "metadata": {},
   "outputs": [
    {
     "name": "stdout",
     "output_type": "stream",
     "text": [
      "name ['Francois', 'John', 'Jack', 'Carl']\n",
      "age [23, 21, 18, 25]\n",
      "grade [87, 68, 97, 78]\n"
     ]
    }
   ],
   "source": [
    "student = {'name':['Francois','John','Jack','Carl'],'age':[23,21,18,25],'grade':[87,68,97,78]}\n",
    "for i in student:\n",
    "    print(i, student[i])"
   ]
  },
  {
   "cell_type": "code",
   "execution_count": 36,
   "metadata": {},
   "outputs": [
    {
     "name": "stdout",
     "output_type": "stream",
     "text": [
      "('x', 'y')\n",
      "x\n",
      "y\n",
      "x y\n"
     ]
    }
   ],
   "source": [
    "coordinates = ('x','y')\n",
    "print(coordinates)\n",
    "print(coordinates[0])\n",
    "print(coordinates[1])\n",
    "print(coordinates[0],coordinates[1])"
   ]
  },
  {
   "cell_type": "code",
   "execution_count": 48,
   "metadata": {},
   "outputs": [
    {
     "name": "stdout",
     "output_type": "stream",
     "text": [
      "{'yellow', 'blue', 'green', 'red'}\n",
      "{'yellow', 'blue', 'green'}\n",
      "{'blue', 'light_green', 'yellow', 'light_red', 'green', 'light_blue'}\n"
     ]
    }
   ],
   "source": [
    "colors = {'red','green','blue'}\n",
    "colors.add('yellow')\n",
    "colors.add('red')\n",
    "print(colors)\n",
    "colors.discard('red')\n",
    "print(colors)\n",
    "light_colors = {'light_red','light_green','light_blue'}\n",
    "print(colors.union(light_colors))"
   ]
  },
  {
   "cell_type": "code",
   "execution_count": 51,
   "metadata": {},
   "outputs": [
    {
     "name": "stdout",
     "output_type": "stream",
     "text": [
      "The number is zero\n"
     ]
    }
   ],
   "source": [
    "x=0\n",
    "\n",
    "if x <0:\n",
    "    print('The number is negative')\n",
    "elif x==0:\n",
    "    print('The number is zero')\n",
    "else:\n",
    "    print('The number is positive')"
   ]
  },
  {
   "cell_type": "code",
   "execution_count": 58,
   "metadata": {},
   "outputs": [
    {
     "name": "stdout",
     "output_type": "stream",
     "text": [
      "1\n",
      "2\n",
      "3\n",
      "4\n",
      "5\n",
      "6\n",
      "7\n",
      "8\n",
      "9\n",
      "10\n",
      "11\n",
      "12\n",
      "13\n",
      "14\n",
      "15\n"
     ]
    }
   ],
   "source": [
    "LoopList= [num for num in range(1,16)]\n",
    "for i in range(15):\n",
    "    print(LoopList[i])"
   ]
  },
  {
   "cell_type": "code",
   "execution_count": 61,
   "metadata": {},
   "outputs": [
    {
     "name": "stdout",
     "output_type": "stream",
     "text": [
      "1\n",
      "2\n",
      "3\n",
      "4\n",
      "5\n",
      "Loop is finished\n"
     ]
    }
   ],
   "source": [
    "count = 1\n",
    "\n",
    "while count<= 5:\n",
    "    print(count)\n",
    "    count += 1 \n",
    "else:\n",
    "    print('Loop is finished')"
   ]
  },
  {
   "cell_type": "code",
   "execution_count": 73,
   "metadata": {},
   "outputs": [
    {
     "name": "stdout",
     "output_type": "stream",
     "text": [
      "Excellent!\n"
     ]
    }
   ],
   "source": [
    "grade = 'A'\n",
    "\n",
    "match grade:\n",
    "    case 'A':\n",
    "        print(\"Excellent!\")\n",
    "    case 'B':\n",
    "        print('Good job!')\n",
    "    case 'C':\n",
    "        print(\"Fair\")\n",
    "    case 'D':\n",
    "        print('Needs improvement')\n",
    "    case 'F':\n",
    "        print(\"Failing\")\n",
    "    case  _:\n",
    "        print(\"Unknown command.\")"
   ]
  },
  {
   "cell_type": "code",
   "execution_count": null,
   "metadata": {},
   "outputs": [],
   "source": []
  }
 ],
 "metadata": {
  "kernelspec": {
   "display_name": "base",
   "language": "python",
   "name": "python3"
  },
  "language_info": {
   "codemirror_mode": {
    "name": "ipython",
    "version": 3
   },
   "file_extension": ".py",
   "mimetype": "text/x-python",
   "name": "python",
   "nbconvert_exporter": "python",
   "pygments_lexer": "ipython3",
   "version": "3.12.4"
  }
 },
 "nbformat": 4,
 "nbformat_minor": 2
}
