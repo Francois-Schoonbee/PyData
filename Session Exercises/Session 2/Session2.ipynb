{
 "cells": [
  {
   "cell_type": "code",
   "execution_count": 4,
   "metadata": {},
   "outputs": [
    {
     "name": "stdout",
     "output_type": "stream",
     "text": [
      "1\n",
      "2\n",
      "Fizz\n",
      "4\n",
      "Bizz\n",
      "Fizz\n",
      "7\n",
      "8\n",
      "Fizz\n",
      "Bizz\n",
      "11\n",
      "Fizz\n",
      "13\n",
      "14\n",
      "FizzBizz\n",
      "16\n",
      "17\n",
      "Fizz\n",
      "19\n"
     ]
    }
   ],
   "source": [
    "def FizzBizz(n):\n",
    "    if(n%3==0 and n%5==0):\n",
    "        return print(\"FizzBizz\")\n",
    "    elif(n%3==0):\n",
    "        print(\"Fizz\")\n",
    "    elif(n%5==0):\n",
    "        print(\"Bizz\")\n",
    "    else:\n",
    "        print(n)\n",
    "\n",
    "for i in range(1,20):\n",
    "    FizzBizz(i)"
   ]
  },
  {
   "cell_type": "code",
   "execution_count": 5,
   "metadata": {},
   "outputs": [
    {
     "data": {
      "text/plain": [
       "[5, 17, 5, -20, 0]"
      ]
     },
     "execution_count": 5,
     "metadata": {},
     "output_type": "execute_result"
    }
   ],
   "source": [
    "ls = [5,'String',8.557853,17,'string numer 2', 6.35,5,732.46,'words',-20,-20.01,0,0.0,'decoy','5']\n",
    "new_ls = [y for y in ls if type(y) is int]\n",
    "new_ls"
   ]
  },
  {
   "cell_type": "code",
   "execution_count": 6,
   "metadata": {},
   "outputs": [
    {
     "name": "stdout",
     "output_type": "stream",
     "text": [
      "Work\n",
      "Work more\n",
      "Shopping\n",
      "Call\n",
      "East\n"
     ]
    }
   ],
   "source": [
    "todo_list = []\n",
    "def  add_task(task):\n",
    "    todo_list.append(task)\n",
    "\n",
    "def show_tasks(list):\n",
    "    for i in range(len(list)):\n",
    "        print(list[i])\n",
    "\n",
    "\n"
   ]
  },
  {
   "cell_type": "code",
   "execution_count": 9,
   "metadata": {},
   "outputs": [
    {
     "name": "stdout",
     "output_type": "stream",
     "text": [
      "71.6\n",
      "114.8\n",
      "123.8\n",
      "168.8\n"
     ]
    }
   ],
   "source": [
    "def celsius_to_fahrenheit(celsuis):\n",
    "    fah = 9/5*celsuis + 32\n",
    "    return fah\n",
    "\n",
    "#Assuming the number should've been listed in Celsuis and should be converted to fahrenheit\n",
    "\n",
    "print(celsius_to_fahrenheit(22))\n",
    "print(celsius_to_fahrenheit(46))\n",
    "print(celsius_to_fahrenheit(51))\n",
    "print(celsius_to_fahrenheit(76))"
   ]
  },
  {
   "cell_type": "markdown",
   "metadata": {},
   "source": []
  }
 ],
 "metadata": {
  "kernelspec": {
   "display_name": "base",
   "language": "python",
   "name": "python3"
  },
  "language_info": {
   "codemirror_mode": {
    "name": "ipython",
    "version": 3
   },
   "file_extension": ".py",
   "mimetype": "text/x-python",
   "name": "python",
   "nbconvert_exporter": "python",
   "pygments_lexer": "ipython3",
   "version": "3.12.4"
  }
 },
 "nbformat": 4,
 "nbformat_minor": 2
}
