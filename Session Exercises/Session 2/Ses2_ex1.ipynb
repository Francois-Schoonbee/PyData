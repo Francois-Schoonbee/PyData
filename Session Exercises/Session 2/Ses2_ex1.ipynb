def FizzBizz(n):
    if(n%3==0 and n%5==0):
        return print("FizzBizz")
    elif(n%3==0):
        print("Fizz")
    elif(n%5==0):
        print("Bizz")
    else:
        print(n)

for i in range(1,20):
    FizzBizz(i)
