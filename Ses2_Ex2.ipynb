ls = [5,'String',8.557853,17,'string numer 2', 6.35,5,732.46,'words',-20,-20.01,0,0.0,'decoy','5']
new_ls = [y for y in ls if type(y) is int]
new_ls
