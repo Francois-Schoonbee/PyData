{
 "cells": [
  {
   "cell_type": "markdown",
   "metadata": {},
   "source": [
    "# Python for Data Science\n",
    "## Session 4 \n",
    "### Basic Libraries I"
   ]
  },
  {
   "cell_type": "markdown",
   "metadata": {},
   "source": [
    "---"
   ]
  },
  {
   "cell_type": "markdown",
   "metadata": {},
   "source": [
    "## Outline\n",
    "\n",
    "1. Numpy for numerical operations\n",
    "\n",
    "2. Scipy for scientific computing\n",
    "\n",
    "3. Math, os, glob, shutil "
   ]
  },
  {
   "cell_type": "markdown",
   "metadata": {},
   "source": [
    "---"
   ]
  },
  {
   "cell_type": "markdown",
   "metadata": {},
   "source": [
    "## Basic Libraries I\n",
    " \n",
    "Numpy provides a multidimensional array **object** and various methods for fast operations on arrays (arrays and matrices). These operations include mathematical, logical, shape manipulation, sorting, selecting, I/O, discrete Fourier transforms, basic linear algebra, basic statistical operations, random simulation and much more.\n",
    "\n",
    "In this session, we will learn some of the most common ones.\n",
    "\n"
   ]
  },
  {
   "cell_type": "code",
   "execution_count": null,
   "metadata": {},
   "outputs": [],
   "source": [
    "# To import a library we just need to use\n",
    "import numpy as np\n",
    "\n",
    "# TIP: Take a look at the references from the libraries you are using. Sometimes there are already-built methods that can save you lines and lines of code... Here the numpy as an example: https://numpy.org/doc/stable/reference/index.html"
   ]
  },
  {
   "cell_type": "code",
   "execution_count": null,
   "metadata": {},
   "outputs": [],
   "source": [
    "# To create a simple array, we can use a list to instantiate an object\n",
    "ar = np.array([-1, 2, 0, 6, 4])\n",
    "ar "
   ]
  },
  {
   "cell_type": "code",
   "execution_count": null,
   "metadata": {},
   "outputs": [],
   "source": [
    "# Similar to list, we can access any of elements in the array\n",
    "print(f\"This is the last number of the array: {ar[-1]}\") "
   ]
  },
  {
   "cell_type": "code",
   "execution_count": null,
   "metadata": {},
   "outputs": [],
   "source": [
    "# We can also slice them\n",
    "print(f\"These are the first three elements of the array: {ar[:3]}\")"
   ]
  },
  {
   "cell_type": "code",
   "execution_count": null,
   "metadata": {},
   "outputs": [],
   "source": [
    "# One thing, array can do, but list cannot is provide a subset of indices\n",
    "print(f\"This is a subarray formed by indices 2, 4 and 0: {ar[[2,4,0]]}\")"
   ]
  },
  {
   "cell_type": "code",
   "execution_count": null,
   "metadata": {},
   "outputs": [],
   "source": [
    "# If we try it with a list...\n",
    "l = [-1, 2, 0, 6, 4]\n",
    "#print(f\"This is a sublist formed by indices 2, 4 and 0: {l[[2,4,0]]}\")"
   ]
  },
  {
   "cell_type": "markdown",
   "metadata": {},
   "source": [
    "---"
   ]
  },
  {
   "cell_type": "markdown",
   "metadata": {},
   "source": [
    "## Basic Libraries I\n",
    "\n",
    "We can perform multiple mathematical operations over arrays. Some of them are similar to the built-in ones we have for lists.\n"
   ]
  },
  {
   "cell_type": "code",
   "execution_count": null,
   "metadata": {},
   "outputs": [],
   "source": [
    "# let's create two vectors\n",
    "u = np.array([1,2,3,4])\n",
    "v = np.array([4,3,1,2])"
   ]
  },
  {
   "cell_type": "code",
   "execution_count": null,
   "metadata": {},
   "outputs": [],
   "source": [
    "# Sum or substract two vectors element by element\n",
    "u + v # equivalent to np.sum([u,v])"
   ]
  },
  {
   "cell_type": "code",
   "execution_count": null,
   "metadata": {},
   "outputs": [],
   "source": [
    "u - v"
   ]
  },
  {
   "cell_type": "code",
   "execution_count": null,
   "metadata": {},
   "outputs": [],
   "source": [
    "# multiplying or dividing them\n",
    "u / v"
   ]
  },
  {
   "cell_type": "code",
   "execution_count": null,
   "metadata": {},
   "outputs": [],
   "source": [
    "u * v"
   ]
  },
  {
   "cell_type": "code",
   "execution_count": null,
   "metadata": {},
   "outputs": [],
   "source": [
    "# Power or sqrt\n",
    "np.pow(u, 2) # equivalent to u ** 2"
   ]
  },
  {
   "cell_type": "code",
   "execution_count": null,
   "metadata": {},
   "outputs": [],
   "source": [
    "np.sqrt(u)"
   ]
  },
  {
   "cell_type": "code",
   "execution_count": null,
   "metadata": {},
   "outputs": [],
   "source": [
    "# dot product\n",
    "np.dot(u, v) # equivalent to np.sum(u*v)"
   ]
  },
  {
   "cell_type": "code",
   "execution_count": null,
   "metadata": {},
   "outputs": [],
   "source": [
    "# mean, median, std\n",
    "np.mean(u)"
   ]
  },
  {
   "cell_type": "code",
   "execution_count": null,
   "metadata": {},
   "outputs": [],
   "source": [
    "np.median(u)"
   ]
  },
  {
   "cell_type": "code",
   "execution_count": null,
   "metadata": {},
   "outputs": [],
   "source": [
    "np.std(u)"
   ]
  },
  {
   "cell_type": "markdown",
   "metadata": {},
   "source": [
    "## Basic Libraries I\n",
    "\n",
    "Regarding changing ordering or sorting we have multiple options. "
   ]
  },
  {
   "cell_type": "code",
   "execution_count": null,
   "metadata": {},
   "outputs": [],
   "source": [
    "a = np.array([3, 0, 1, 4, 8])"
   ]
  },
  {
   "cell_type": "code",
   "execution_count": null,
   "metadata": {},
   "outputs": [],
   "source": [
    "# We simply need to run\n",
    "np.sort(a)"
   ]
  },
  {
   "cell_type": "code",
   "execution_count": null,
   "metadata": {},
   "outputs": [],
   "source": [
    "# Same as the list, we can invert the original order by simply\n",
    "a[::-1]"
   ]
  },
  {
   "cell_type": "code",
   "execution_count": null,
   "metadata": {},
   "outputs": [],
   "source": [
    "# You can also select the type of algorithm to sort an array\n",
    "np.sort(a, kind='quicksort') # mergesort, heapsort"
   ]
  },
  {
   "cell_type": "code",
   "execution_count": null,
   "metadata": {},
   "outputs": [],
   "source": [
    "# Another interesting thing we can have with sort is to order based on different fields\n",
    "values = [('Jaume', 2023, 9.4), ('James', 2021, 9.1), ('Marta', 2021, 8.3)]\n",
    "dtype = [('name', 'S10'), ('year', int), ('grade', float)]\n",
    "\n",
    "a = np.array(values, dtype=dtype)\n",
    "a"
   ]
  },
  {
   "cell_type": "code",
   "execution_count": null,
   "metadata": {},
   "outputs": [],
   "source": [
    "# Sorting by grade\n",
    "np.sort(a, order='grade')"
   ]
  },
  {
   "cell_type": "code",
   "execution_count": null,
   "metadata": {},
   "outputs": [],
   "source": [
    "# Sorting first by year, and when they have the same year, doing it by grade\n",
    "np.sort(a, order=['year', 'grade'])"
   ]
  },
  {
   "cell_type": "code",
   "execution_count": null,
   "metadata": {},
   "outputs": [],
   "source": [
    "np.sort(a, order=['year'])"
   ]
  },
  {
   "cell_type": "code",
   "execution_count": null,
   "metadata": {},
   "outputs": [],
   "source": [
    "# the same way you sort, you can get the original indices sorted instead of the sorted array\n",
    "a = np.array([3, 1, 6, 5])\n",
    "np.argsort(a)"
   ]
  },
  {
   "cell_type": "code",
   "execution_count": null,
   "metadata": {},
   "outputs": [],
   "source": [
    "# there is also a cool method called, unique, it gives you all the unique elements in a list/array\n",
    "a = np.array([1, 1, 1, 2, 5, 6, 5, 9])\n",
    "np.unique(a)"
   ]
  },
  {
   "cell_type": "markdown",
   "metadata": {},
   "source": [
    "## Basic Libraries I\n",
    "\n",
    "Selecting random elements from a list can be also performed from numpy."
   ]
  },
  {
   "cell_type": "code",
   "execution_count": null,
   "metadata": {},
   "outputs": [],
   "source": [
    "# Randomly create integer numbers ranging from 0 to 9\n",
    "a = np.random.randint(0, 10)\n",
    "a"
   ]
  },
  {
   "cell_type": "code",
   "execution_count": null,
   "metadata": {},
   "outputs": [],
   "source": [
    "# Randomly creating an array of 10 floats from a normal distribution, mean 0 and std 1\n",
    "a = np.random.randn(10)\n",
    "a"
   ]
  },
  {
   "cell_type": "code",
   "execution_count": null,
   "metadata": {},
   "outputs": [],
   "source": [
    "# Randomly selecting a value in a list/array (using uniform distribution)\n",
    "np.random.choice(['a', 1, 'b', 0.4])"
   ]
  },
  {
   "cell_type": "code",
   "execution_count": null,
   "metadata": {},
   "outputs": [],
   "source": [
    "# Randomly generating numbers using a uniform distribution over the interval [0, 1]\n",
    "np.random.rand(10)"
   ]
  },
  {
   "cell_type": "code",
   "execution_count": null,
   "metadata": {},
   "outputs": [],
   "source": [
    "# Create a random permutation from a list/array\n",
    "np.random.permutation([23, 3, 2, -1])"
   ]
  },
  {
   "cell_type": "code",
   "execution_count": null,
   "metadata": {},
   "outputs": [],
   "source": [
    "# Important, how to reproduce your results over and over\n",
    "np.random.seed(123) # we can also pass a str, float that gets transformed into a fixed-size integer\n",
    "np.random.choice([23, 3, 2, -1, 31, 6, -34, 0])"
   ]
  },
  {
   "cell_type": "markdown",
   "metadata": {},
   "source": [
    "## Basic Libraries I\n",
    "\n",
    "Other useful operations consist in modifying the shape and stack or concatenate elements.You can also created new arrays with buit-in methods such as **ones**, **zeros**, **ones_like**, **zeros_like**, and even define their type, **astype**."
   ]
  },
  {
   "cell_type": "code",
   "execution_count": null,
   "metadata": {},
   "outputs": [],
   "source": [
    "a = np.array([1,2,3,4])\n",
    "b = np.array([5,6,7,8])"
   ]
  },
  {
   "cell_type": "code",
   "execution_count": null,
   "metadata": {},
   "outputs": [],
   "source": [
    "np.concatenate([a,b])"
   ]
  },
  {
   "cell_type": "code",
   "execution_count": null,
   "metadata": {},
   "outputs": [],
   "source": [
    "c = np.stack([a,b])\n",
    "c"
   ]
  },
  {
   "cell_type": "code",
   "execution_count": null,
   "metadata": {},
   "outputs": [],
   "source": [
    "np.reshape(c, (8,1))"
   ]
  },
  {
   "cell_type": "code",
   "execution_count": null,
   "metadata": {},
   "outputs": [],
   "source": [
    "c.flatten()"
   ]
  },
  {
   "cell_type": "code",
   "execution_count": null,
   "metadata": {},
   "outputs": [],
   "source": [
    "c.swapaxes(0,1) # swapping the axes"
   ]
  },
  {
   "cell_type": "code",
   "execution_count": null,
   "metadata": {},
   "outputs": [],
   "source": [
    "c.transpose(1,0) # tranposing multiple axes at the same time"
   ]
  },
  {
   "cell_type": "code",
   "execution_count": null,
   "metadata": {},
   "outputs": [],
   "source": [
    "ones = np.ones(4) # you can also create given a size new arrays with\n",
    "ones"
   ]
  },
  {
   "cell_type": "code",
   "execution_count": null,
   "metadata": {},
   "outputs": [],
   "source": [
    "zeros = np.zeros_like(ones).astype('uint8') # you can do it with other types, e.g. float, uint16...\n",
    "zeros"
   ]
  },
  {
   "cell_type": "markdown",
   "metadata": {},
   "source": [
    "## Basic Libraries I\n",
    "\n",
    "Logic operations are often used when handling arrays or matrices. These are some practical examples."
   ]
  },
  {
   "cell_type": "code",
   "execution_count": null,
   "metadata": {},
   "outputs": [],
   "source": [
    "# We can work with integers to create logical arrays\n",
    "u = np.array([0, 1, 0, 1, 1]) # equivalent to u = [False, True, False, True , True]\n",
    "v = np.array([1, 0, 0, 1, 0]) # you can also transform them to booleans np.bool(u)"
   ]
  },
  {
   "cell_type": "code",
   "execution_count": null,
   "metadata": {},
   "outputs": [],
   "source": [
    "np.logical_and(u, v)"
   ]
  },
  {
   "cell_type": "code",
   "execution_count": null,
   "metadata": {},
   "outputs": [],
   "source": [
    "np.logical_or(u, v)"
   ]
  },
  {
   "cell_type": "code",
   "execution_count": null,
   "metadata": {},
   "outputs": [],
   "source": [
    "np.logical_not(u)"
   ]
  },
  {
   "cell_type": "markdown",
   "metadata": {},
   "source": [
    "## Basic Libraries I\n",
    "\n",
    "Numpy also provides methods to save and load numpy objects efficiently."
   ]
  },
  {
   "cell_type": "code",
   "execution_count": null,
   "metadata": {},
   "outputs": [],
   "source": [
    "a = np.array([0, 10, 14, 17, 19])"
   ]
  },
  {
   "cell_type": "code",
   "execution_count": null,
   "metadata": {},
   "outputs": [],
   "source": [
    "np.save(\"session_4_array.npy\", a)"
   ]
  },
  {
   "cell_type": "code",
   "execution_count": null,
   "metadata": {},
   "outputs": [],
   "source": [
    "b = np.load(\"session_4_array.npy\")\n",
    "b"
   ]
  },
  {
   "cell_type": "markdown",
   "metadata": {},
   "source": [
    "## Basic Libraries I\n",
    "\n",
    "Scipy provides algorithms for statistics, optimization, integration, interpolation, algebraic equations, differential equations, and many other classes of problems. In this session, we will look at a few cases where they are normaly used. "
   ]
  },
  {
   "cell_type": "code",
   "execution_count": null,
   "metadata": {},
   "outputs": [],
   "source": [
    "# 1. Solving typical system of equations\n",
    "\n",
    "import numpy as np\n",
    "from scipy import linalg\n",
    "\n",
    "# Coefficient matrix A and constants b\n",
    "# 10x + y = 10\n",
    "# 2x + 3y = 1\n",
    "\n",
    "A = np.array([[10, 1], [2, 3]])\n",
    "b = np.array([10, 1])\n",
    "\n",
    "\n",
    "# Solve for x\n",
    "x = linalg.solve(A, b)\n",
    "print(x)\n",
    "\n",
    "print(10*x[0] + 1*x[1])\n",
    "print(2*x[0] + 3*x[1])"
   ]
  },
  {
   "cell_type": "code",
   "execution_count": null,
   "metadata": {},
   "outputs": [],
   "source": [
    "# 2. Integrating a function over an interval \n",
    "from scipy import integrate\n",
    "\n",
    "# Define a simple function to integrate\n",
    "def f(x):\n",
    "    return x**2 # x^2\n",
    "\n",
    "# Integrate f(x) from 0 to 1\n",
    "result,error = integrate.quad(f, 0, 2)\n",
    "print(result)\n"
   ]
  },
  {
   "cell_type": "code",
   "execution_count": null,
   "metadata": {},
   "outputs": [],
   "source": [
    "# 3. Integrating a function over an interval \n",
    "from scipy import optimize\n",
    "\n",
    "# Define a quadratic function\n",
    "def f(x):\n",
    "    return x**2 + x + 1\n",
    "\n",
    "# Find the minimum\n",
    "result = optimize.minimize(f, x0=0)  # x0 is the initial guess\n",
    "print(result.x)"
   ]
  },
  {
   "cell_type": "code",
   "execution_count": null,
   "metadata": {},
   "outputs": [],
   "source": [
    "# 4. Interpolating between 2D points\n",
    "\n",
    "import numpy as np\n",
    "import matplotlib.pyplot as plt\n",
    "from scipy.interpolate import interp1d\n",
    "\n",
    "# 4.1. Define some scattered 2D points (x, y) and corresponding z values\n",
    "points = np.random.rand(10, 2) * 10  # 10 random points in 2D (x, y)\n",
    "x = points[:, 0]  # Take the x-coordinates\n",
    "z = np.sin(points[:, 0]) + np.cos(points[:, 1])  # z = sin(x) + cos(y) based on x and y\n",
    "\n",
    "# 4.2 Sort x and z for proper interpolation (since x needs to be sorted)\n",
    "sorted_indices = np.argsort(x)\n",
    "x_sorted = x[sorted_indices]\n",
    "z_sorted = z[sorted_indices]\n",
    "\n",
    "# 4.3 Perform 1D interpolation along the x-axis\n",
    "interp_func = interp1d(x_sorted, z_sorted, kind='cubic')  # Cubic interpolation\n",
    "\n",
    "# 4.4. Create new x points for interpolation\n",
    "x_new = np.linspace(min(x_sorted), max(x_sorted), 100)  # 100 new points along x-axis\n",
    "z_new = interp_func(x_new)\n",
    "\n",
    "# Step 5: Plot the original points and the 1D interpolation result\n",
    "plt.figure(figsize=(8, 6))\n",
    "\n",
    "# Plot original 2D points (x, z) as scatter plot\n",
    "plt.scatter(x, z, color='red', label='Original Points')\n",
    "\n",
    "# Plot the interpolated curve\n",
    "plt.plot(x_new, z_new, label='Interpolated Curve', color='blue')\n",
    "\n",
    "plt.title('1D Interpolation of 2D Points along X-Axis')\n",
    "plt.xlabel('X')\n",
    "plt.ylabel('Z (Interpolated)')\n",
    "plt.legend()\n",
    "plt.grid(True)\n",
    "plt.show()"
   ]
  },
  {
   "cell_type": "code",
   "execution_count": null,
   "metadata": {},
   "outputs": [],
   "source": [
    "# 5. Run a simple t-test over two distributions\n",
    "\n",
    "from scipy import stats\n",
    "\n",
    "# Two samples\n",
    "sample1 = np.random.normal(loc=5, scale=1, size=100) # samples 100 points using a N(5, 1)\n",
    "sample2 = np.random.normal(loc=5.5, scale=1, size=100) # samples 100 points using a N(5.5, 1)\n",
    "\n",
    "# Perform t-test\n",
    "_, p_value = stats.ttest_ind(sample1, sample2)\n",
    "print(p_value)\n",
    "\n",
    "# If the two populations come from the same distrubution the p-value should be high, typically above 0.05. \n",
    "# It the value is close to 1, the two samples are most probably coming from the same distribution."
   ]
  },
  {
   "cell_type": "markdown",
   "metadata": {},
   "source": [
    "## Basic Libraries I\n",
    "\n",
    "Another library used when developing algorithms is Math. This is a **built-in** library in Python. It is worth mentioning that most of the mathematical functions and constants are covered by Scipy and Numpy. However, it is worth knowing it, since is a built-in library."
   ]
  },
  {
   "cell_type": "code",
   "execution_count": null,
   "metadata": {},
   "outputs": [],
   "source": [
    "import math"
   ]
  },
  {
   "cell_type": "code",
   "execution_count": null,
   "metadata": {},
   "outputs": [],
   "source": [
    "# Square root, power, absolute value\n",
    "math.sqrt(16)"
   ]
  },
  {
   "cell_type": "code",
   "execution_count": null,
   "metadata": {},
   "outputs": [],
   "source": [
    "math.pow(2, 3)"
   ]
  },
  {
   "cell_type": "code",
   "execution_count": null,
   "metadata": {},
   "outputs": [],
   "source": [
    "math.fabs(-10.5)"
   ]
  },
  {
   "cell_type": "code",
   "execution_count": null,
   "metadata": {},
   "outputs": [],
   "source": [
    "# Calculate sinus, cosinus, tangent\n",
    "angle = math.pi / 4  # in gradients\n",
    "math.sin(angle) / math.cos(angle) == math.tan(angle)"
   ]
  },
  {
   "cell_type": "code",
   "execution_count": null,
   "metadata": {},
   "outputs": [],
   "source": [
    "# Exponential, logarithm (ln), # Logarithm base 10\n",
    "math.exp(1)"
   ]
  },
  {
   "cell_type": "code",
   "execution_count": null,
   "metadata": {},
   "outputs": [],
   "source": [
    "math.log(10)"
   ]
  },
  {
   "cell_type": "code",
   "execution_count": null,
   "metadata": {},
   "outputs": [],
   "source": [
    "math.log10(100)"
   ]
  },
  {
   "cell_type": "code",
   "execution_count": null,
   "metadata": {},
   "outputs": [],
   "source": [
    "# Rounding down (floor) and up (ceil), and factorial\n",
    "print(f\"floor value for 2.8: {math.floor(2.8)} and ceil value for 2.1: {math.ceil(2.1)}\")"
   ]
  },
  {
   "cell_type": "code",
   "execution_count": null,
   "metadata": {},
   "outputs": [],
   "source": [
    "print(f\"Factorial value of 4: {math.factorial(4)}\")"
   ]
  },
  {
   "cell_type": "markdown",
   "metadata": {},
   "source": [
    "## Basic Libraries I\n",
    "\n",
    "When manipulating files and folder, you may want to use the following **built-in** libraries: os, glob and shutil. Let's staart with **os**."
   ]
  },
  {
   "cell_type": "code",
   "execution_count": null,
   "metadata": {},
   "outputs": [],
   "source": [
    "import os"
   ]
  },
  {
   "cell_type": "code",
   "execution_count": null,
   "metadata": {},
   "outputs": [],
   "source": [
    "# Let's check what files we have in a specific folder\n",
    "#os.listdir('Documents/')"
   ]
  },
  {
   "cell_type": "code",
   "execution_count": null,
   "metadata": {},
   "outputs": [],
   "source": [
    "# Let's get the absolute path\n",
    "os.getcwd()"
   ]
  },
  {
   "cell_type": "code",
   "execution_count": null,
   "metadata": {},
   "outputs": [],
   "source": [
    "# Create a new folder\n",
    "os.mkdir('new_folder')"
   ]
  },
  {
   "cell_type": "code",
   "execution_count": null,
   "metadata": {},
   "outputs": [],
   "source": [
    "[file for file in os.listdir('.') if 'new_folder' in file]"
   ]
  },
  {
   "cell_type": "code",
   "execution_count": null,
   "metadata": {},
   "outputs": [],
   "source": [
    "# Remove it now\n",
    "os.rmdir('new_folder')"
   ]
  },
  {
   "cell_type": "code",
   "execution_count": null,
   "metadata": {},
   "outputs": [],
   "source": [
    "[file for file in os.listdir('.') if 'new_folder' in file]"
   ]
  },
  {
   "cell_type": "code",
   "execution_count": null,
   "metadata": {},
   "outputs": [],
   "source": [
    "# Check if a file exists\n",
    "print(os.path.exists('session_4.ipynb'))"
   ]
  },
  {
   "cell_type": "code",
   "execution_count": null,
   "metadata": {},
   "outputs": [],
   "source": [
    "# You can also join paths or get the file out of the full path\n",
    "os.path.join('session_4/', 'annotations')"
   ]
  },
  {
   "cell_type": "code",
   "execution_count": null,
   "metadata": {},
   "outputs": [],
   "source": [
    "os.path.basename('session_4/annotations/20240101_174301_SN33_QUICKVIEW_VISUAL_1_1_10_SATL-2KM-11N_404_3770.txt')"
   ]
  },
  {
   "cell_type": "markdown",
   "metadata": {},
   "source": [
    "## Basic Libraries I\n",
    "\n",
    "Let's keep working now with **glob**."
   ]
  },
  {
   "cell_type": "code",
   "execution_count": null,
   "metadata": {},
   "outputs": [],
   "source": [
    "import glob"
   ]
  },
  {
   "cell_type": "code",
   "execution_count": null,
   "metadata": {},
   "outputs": [],
   "source": [
    "# Similar to os, you can also list files, but you can provide wildcards \n",
    "glob.glob('session_4/annotations/*.txt')"
   ]
  },
  {
   "cell_type": "code",
   "execution_count": null,
   "metadata": {},
   "outputs": [],
   "source": [
    "# It does provide a great tool to list all the files within a folder, and also do it recursively\n",
    "glob.glob('session_4/**/*.txt', recursive=True)"
   ]
  },
  {
   "cell_type": "markdown",
   "metadata": {},
   "source": [
    "## Basic Libraries I\n",
    "\n",
    "Let's finally work with shutil. This library provides the usual bash commands you have in your terminal."
   ]
  },
  {
   "cell_type": "code",
   "execution_count": null,
   "metadata": {},
   "outputs": [],
   "source": [
    "import shutil as sh"
   ]
  },
  {
   "cell_type": "code",
   "execution_count": null,
   "metadata": {},
   "outputs": [],
   "source": [
    "# Copy a file into a new place\n",
    "#sh.copy('slides_install_guide.txt', 'session_4/')"
   ]
  },
  {
   "cell_type": "code",
   "execution_count": null,
   "metadata": {},
   "outputs": [],
   "source": [
    "# instead of listing the current directory, os.listdir('.'), we can\n",
    "# !dir \"session_4/\""
   ]
  },
  {
   "cell_type": "code",
   "execution_count": null,
   "metadata": {},
   "outputs": [],
   "source": [
    "# Move it now outside this folder\n",
    "#sh.move('session_4/slides_install_guide.txt', 'slides_install_guide_copy.txt')"
   ]
  },
  {
   "cell_type": "code",
   "execution_count": null,
   "metadata": {},
   "outputs": [],
   "source": [
    "ls"
   ]
  },
  {
   "cell_type": "code",
   "execution_count": null,
   "metadata": {},
   "outputs": [],
   "source": [
    "# let's create a folder to remove later\n",
    "os.mkdir('folder_to_be_removed')"
   ]
  },
  {
   "cell_type": "code",
   "execution_count": null,
   "metadata": {},
   "outputs": [],
   "source": [
    "ls"
   ]
  },
  {
   "cell_type": "code",
   "execution_count": null,
   "metadata": {},
   "outputs": [],
   "source": [
    "# Remove a folder and its content\n",
    "sh.rmtree('folder_to_be_removed/')"
   ]
  },
  {
   "cell_type": "markdown",
   "metadata": {},
   "source": [
    "## Basic Libraries I\n",
    "\n",
    "Let's jump into today's exercice."
   ]
  },
  {
   "cell_type": "markdown",
   "metadata": {},
   "source": [
    "### Exercise\n",
    "\n",
    "\n",
    "Given a zip file with a subfolder with multiple annotations, where the name convention for each one of them is: \n",
    "\n",
    "{DATE}_{TIME}_SN{SATELLITE_NUMBER}_QUICKVIEW_VISUAL_{VERSION}_{UNIQUE_REGION}.txt\n",
    "\n",
    "where:\n",
    "\n",
    "- DATE expressed as YYYYMMDD (year, month and day), e.g. 20241201, 20230321 ...\n",
    "- TIME expressed as HHMMSS (hour, minutes and seconds), e.g. 2134307\n",
    "- SATELLITE_NUMBER an integer that represents the satellite number.\n",
    "- VERSION provides the version of the pipeline, e.g. \"0_1_2\", \"1_3_1\" ...\n",
    "- UNIQUE_REGION provides a unique location in the form of a string, e.g SATL-2KM-10N_552_4164\n",
    "\n",
    "Find out the following thing about your data:\n",
    "\n",
    "1. How many files the annotations folder has.\n",
    "2. How many of them follow the name convention expressed above.\n",
    "3. How many of annotations you have per month and year. Which month has more annotation files.\n",
    "4. Create a new annotations folder with multiple folders corresponding to a month.\n",
    "5. Print all the annotations from the most recent to the oldest one. \n",
    "6. How many different satellites there are, how many annotations we have per satellite number, and which one was used in the most recent annotation file. \n",
    "7. How many unique regions there are.\n",
    "\n",
    "some tips:\n",
    "- str class has a method called split, you can use it to get each field per annotation.\n",
    "- you can use sort from numpy on strings."
   ]
  },
  {
   "cell_type": "code",
   "execution_count": null,
   "metadata": {},
   "outputs": [],
   "source": [
    "import re\n",
    "import glob\n",
    "import os\n",
    "\n",
    "# Regex pattern, r in front of strings tell python to treat them as raw strings\n",
    "# we do this so slashes don't get interpret as scaping symbol\n",
    "pattern = r'(\\d{8})_(\\d{6})_SN(\\d+)_QUICKVIEW_VISUAL_([\\d_]+)_([A-Za-z0-9\\-_.]+)\\.txt' \n",
    "\n",
    "annotations = glob.glob('session_4/annotations/*.txt')\n",
    "\n",
    "for annotation in annotations:\n",
    "\n",
    "    # extract the file name\n",
    "    filename = os.path.basename(annotation)\n",
    "    \n",
    "    # Search and extract values\n",
    "    match = re.match(pattern, filename)\n",
    "    if match:\n",
    "        date, time, satellite_number, version, unique_region = match.groups()\n",
    "        print(f\"Date: {date}; Time: {time}; SN: {satellite_number}; ver: {version}; region: {unique_region}\")"
   ]
  },
  {
   "cell_type": "code",
   "execution_count": null,
   "metadata": {},
   "outputs": [],
   "source": [
    "annotations = glob.glob('session_4/annotations/*.txt')\n",
    "length = len(annotations)\n",
    "print(f\"The annotations file has {length} files\")"
   ]
  },
  {
   "cell_type": "code",
   "execution_count": null,
   "metadata": {},
   "outputs": [
    {
     "name": "stdout",
     "output_type": "stream",
     "text": [
      "194 files match the naming convention\n"
     ]
    }
   ],
   "source": [
    "anno_names = []\n",
    "matching = []\n",
    "\n",
    "for annotation in annotations:\n",
    "    anno_names.append(os.path.basename(annotation))\n",
    "\n",
    "for annotation in anno_names:\n",
    "    if re.match(r'\\d{8}_\\d{6}_SN\\d{2}_QUICKVIEW_VISUAL_\\d+_\\d+_\\d+_([a-zA-z0-9\\-_]+).*.txt',annotation):\n",
    "        matching.append(annotation)\n",
    "\n",
    "print(f\"{len(matching)} files match the naming convention\")"
   ]
  },
  {
   "cell_type": "code",
   "execution_count": null,
   "metadata": {},
   "outputs": [
    {
     "data": {
      "text/plain": [
       "'June'"
      ]
     },
     "metadata": {},
     "output_type": "display_data"
    }
   ],
   "source": [
    "from datetime import datetime\n",
    "datetime.strptime(annotation[0:8],'%Y%m%d').strftime('%B')\n"
   ]
  },
  {
   "cell_type": "code",
   "execution_count": null,
   "metadata": {},
   "outputs": [
    {
     "name": "stdout",
     "output_type": "stream",
     "text": [
      "January has 27 annotations\n",
      "February has 45 annotations\n",
      "March has 17 annotations\n",
      "April has 25 annotations\n",
      "May has 28 annotations\n",
      "June has 52 annotations\n"
     ]
    }
   ],
   "source": [
    "from collections import defaultdict\n",
    "from datetime import datetime\n",
    "\n",
    "annotation_month = {}\n",
    "\n",
    "for annotation in matching:\n",
    "    annotation_month[annotation]= datetime.strptime(annotation[0:8],'%Y%m%d').strftime('%B')\n",
    "\n",
    "\n",
    "res = defaultdict(list)\n",
    "for key, val in sorted(annotation_month.items()):\n",
    "    res[val].append(key)\n",
    "\n",
    "month_dict = dict(res)\n",
    "\n",
    "for key, value in month_dict.items():\n",
    "    print(f\"{key} has {len([item for item in value if item])} annotations\")"
   ]
  },
  {
   "cell_type": "code",
   "execution_count": null,
   "metadata": {},
   "outputs": [
    {
     "name": "stdout",
     "output_type": "stream",
     "text": [
      "June has the most occurrences with 52\n"
     ]
    }
   ],
   "source": [
    "occurences = []\n",
    "month_list = []\n",
    "for key, value in month_dict.items():\n",
    "    occurences.append(len([item for item in value if item]))\n",
    "    month_list.append(key)\n",
    "\n",
    "month_max = month_list[occurences.index(max(occurences))]\n",
    "print(f\"{month_max} has the most occurrences with {max(occurences)}\")\n"
   ]
  }
 ],
 "metadata": {
  "language_info": {
   "name": "python"
  }
 },
 "nbformat": 4,
 "nbformat_minor": 2
}
