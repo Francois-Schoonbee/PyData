todo_list = []
def  add_task(task):
    todo_list.append(task)

def show_tasks(list):
    for i in range(len(list)):
        print(list[i])

