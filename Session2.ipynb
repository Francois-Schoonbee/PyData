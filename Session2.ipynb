{
 "cells": [
  {
   "cell_type": "code",
   "execution_count": 18,
   "metadata": {},
   "outputs": [
    {
     "name": "stdout",
     "output_type": "stream",
     "text": [
      "1\n",
      "2\n",
      "Fizz\n",
      "4\n",
      "Bizz\n",
      "Fizz\n",
      "7\n",
      "8\n",
      "Fizz\n",
      "Bizz\n",
      "11\n",
      "Fizz\n",
      "13\n",
      "14\n",
      "FizzBizz\n",
      "16\n",
      "17\n",
      "Fizz\n",
      "19\n"
     ]
    }
   ],
   "source": [
    "def FizzBizz(n):\n",
    "    if(n%3==0 and n%5==0):\n",
    "        return print(\"FizzBizz\")\n",
    "    elif(n%3==0):\n",
    "        print(\"Fizz\")\n",
    "    elif(n%5==0):\n",
    "        print(\"Bizz\")\n",
    "    else:\n",
    "        print(n)\n",
    "\n",
    "for i in range(1,20):\n",
    "    FizzBizz(i)"
   ]
  },
  {
   "cell_type": "code",
   "execution_count": 5,
   "metadata": {},
   "outputs": [
    {
     "data": {
      "text/plain": [
       "[5, 17, 5, -20, 0]"
      ]
     },
     "execution_count": 5,
     "metadata": {},
     "output_type": "execute_result"
    }
   ],
   "source": [
    "ls = [5,'String',8.557853,17,'string numer 2', 6.35,5,732.46,'words',-20,-20.01,0,0.0,'decoy','5']\n",
    "new_ls = [y for y in ls if type(y) is int]\n",
    "new_ls"
   ]
  },
  {
   "cell_type": "code",
   "execution_count": 12,
   "metadata": {},
   "outputs": [
    {
     "ename": "IndexError",
     "evalue": "list assignment index out of range",
     "output_type": "error",
     "traceback": [
      "\u001b[1;31m---------------------------------------------------------------------------\u001b[0m",
      "\u001b[1;31mIndexError\u001b[0m                                Traceback (most recent call last)",
      "Cell \u001b[1;32mIn[12], line 2\u001b[0m\n\u001b[0;32m      1\u001b[0m \u001b[38;5;28mlen\u001b[39m(todo_list)\n\u001b[1;32m----> 2\u001b[0m todo_list[\u001b[38;5;241m0\u001b[39m]\u001b[38;5;241m=\u001b[39m\u001b[38;5;124m'\u001b[39m\u001b[38;5;124mapple\u001b[39m\u001b[38;5;124m'\u001b[39m\n",
      "\u001b[1;31mIndexError\u001b[0m: list assignment index out of range"
     ]
    }
   ],
   "source": [
    "len(todo_list)\n",
    "todo_list[0]='apple'"
   ]
  },
  {
   "cell_type": "code",
   "execution_count": 20,
   "metadata": {},
   "outputs": [
    {
     "name": "stdout",
     "output_type": "stream",
     "text": [
      "Work\n",
      "Work more\n",
      "Shopping\n",
      "Call\n",
      "East\n"
     ]
    }
   ],
   "source": [
    "todo_list = []\n",
    "def  add_task(task):\n",
    "    todo_list.append(task)\n",
    "\n",
    "def show_tasks(list):\n",
    "    for i in range(len(list)):\n",
    "        print(list[i])\n",
    "\n",
    "add_task('Work')\n",
    "add_task('Work more')\n",
    "add_task('Shopping')\n",
    "add_task('Call')\n",
    "add_task('East')\n",
    "show_tasks(todo_list)\n"
   ]
  },
  {
   "cell_type": "code",
   "execution_count": 22,
   "metadata": {},
   "outputs": [
    {
     "data": {
      "text/plain": [
       "32.0"
      ]
     },
     "execution_count": 22,
     "metadata": {},
     "output_type": "execute_result"
    }
   ],
   "source": [
    "def celsius_to_fahrenheit(celsuis):\n",
    "    fah = 9/5*celsuis + 32\n",
    "    return fah\n",
    "\n",
    "celsius_to_fahrenheit(0)"
   ]
  },
  {
   "cell_type": "markdown",
   "metadata": {},
   "source": []
  }
 ],
 "metadata": {
  "kernelspec": {
   "display_name": "base",
   "language": "python",
   "name": "python3"
  },
  "language_info": {
   "codemirror_mode": {
    "name": "ipython",
    "version": 3
   },
   "file_extension": ".py",
   "mimetype": "text/x-python",
   "name": "python",
   "nbconvert_exporter": "python",
   "pygments_lexer": "ipython3",
   "version": "3.12.4"
  }
 },
 "nbformat": 4,
 "nbformat_minor": 2
}
