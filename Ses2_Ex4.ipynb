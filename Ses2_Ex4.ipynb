def celsius_to_fahrenheit(celsuis):
    fah = 9/5*celsuis + 32
    return fah

#Assuming the number should've been listed in Celsuis and should be converted to fahrenheit

print(celsius_to_fahrenheit(22))
print(celsius_to_fahrenheit(46))
print(celsius_to_fahrenheit(51))
print(celsius_to_fahrenheit(76))
