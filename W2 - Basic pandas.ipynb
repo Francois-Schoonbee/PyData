{
 "cells": [
  {
   "cell_type": "markdown",
   "id": "ada8f9e8",
   "metadata": {},
   "source": [
    "# Basic pandas\n",
    "\n",
    "Pandas is a Python library. It is already installed in Anaconda, so that we do not need to install it again.\n",
    "However, in order to use it, we must import it first."
   ]
  },
  {
   "cell_type": "code",
   "execution_count": null,
   "id": "d782f941",
   "metadata": {},
   "outputs": [],
   "source": [
    "import pandas as pd"
   ]
  },
  {
   "cell_type": "markdown",
   "id": "d34c3e30",
   "metadata": {},
   "source": [
    "Once having run the code above, we will be able to access the content in the Pandas library using the statement pd."
   ]
  },
  {
   "cell_type": "markdown",
   "id": "42dc2a95",
   "metadata": {},
   "source": [
    "<div class=\"alert alert-info\"><b> Exercise 1 </b>\n",
    "\n",
    "Define a Series that stores the price of different ages ```[28, 34, 29, 42]```. Assign the content in this Series to a new variable called ```ages```.\n",
    "\n",
    "</div>"
   ]
  },
  {
   "cell_type": "code",
   "execution_count": null,
   "id": "7212349b",
   "metadata": {},
   "outputs": [],
   "source": [
    "<FILL IN>"
   ]
  },
  {
   "cell_type": "markdown",
   "id": "ed013e4e",
   "metadata": {},
   "source": [
    "<div class=\"alert alert-info\"><b> Exercise 2 </b>\n",
    "\n",
    "As before, define a Series called age that contains the data ```[28, 34, 29, 42]```. This time set the index parameter to the value ```index = ['Tom', 'Jack', 'Bob', 'Ann']```\n",
    "\n",
    "</div>"
   ]
  },
  {
   "cell_type": "code",
   "execution_count": null,
   "id": "02fafcad",
   "metadata": {},
   "outputs": [],
   "source": [
    "<FILL IN>"
   ]
  },
  {
   "cell_type": "markdown",
   "id": "5c431ae4",
   "metadata": {},
   "source": [
    "<div class=\"alert alert-info\"><b> Exercise 3 </b>\n",
    "\n",
    "Define a dictionary as ```data = {'Tom' : 28, 'Jack' : 34, 'Bob' : 29, 'Ann': 42}```. Then, Create a Series using the data dictionary. Print the Series. What values are assigned to the index?\n",
    "\n",
    "</div>"
   ]
  },
  {
   "cell_type": "code",
   "execution_count": null,
   "id": "08e15c9a",
   "metadata": {},
   "outputs": [],
   "source": [
    "<FILL IN>"
   ]
  },
  {
   "cell_type": "markdown",
   "id": "b76fcf7e",
   "metadata": {},
   "source": [
    "<div class=\"alert alert-info\"><b> Exercise 4 </b>\n",
    "\n",
    "Define a DataFrame that contains the same data as the previous exercise, ```{'Tom' : 28, 'Jack' : 34, 'Bob' : 29, 'Ann': 42}```, but this time in a nested list form. If we don’t provide any names for the columns parameter, what values does Python assign to the columns?. Now define the same DataFrame but this time set the columns value to ```columns = ['Name', 'Age']```. Finally, change the default index to ```['rank1', 'rank2', 'rank3', 'rank4']```.\n",
    "\n",
    "</div>"
   ]
  },
  {
   "cell_type": "code",
   "execution_count": null,
   "id": "c7d9e398",
   "metadata": {},
   "outputs": [],
   "source": [
    "<FILL IN>"
   ]
  },
  {
   "cell_type": "markdown",
   "id": "136c62cc",
   "metadata": {},
   "source": [
    "<div class=\"alert alert-info\"><b> Exercise 5 </b>\n",
    "\n",
    "Take the DataFrame defined above and add a new column named 'Vegetarian' with the values ```[False, True, True, True]```. Then, create a new column called ```Age (in days)``` that stores the age of each person in days, assuming a year has exactly 365 days.\n",
    "\n",
    "</div>"
   ]
  },
  {
   "cell_type": "code",
   "execution_count": null,
   "id": "ca6f0438",
   "metadata": {},
   "outputs": [],
   "source": [
    "<FILL IN>"
   ]
  },
  {
   "cell_type": "markdown",
   "id": "d5a931e9",
   "metadata": {},
   "source": [
    "<div class=\"alert alert-info\"><b> Exercise 6 </b>\n",
    "\n",
    "Take the DataFrame defined above and select only the column ```'Name'```. Now select the first and third rows. Modify the DataFrame to remove the second row. Now remove the ```Vegetarian``` column.\n",
    "\n",
    "</div>"
   ]
  },
  {
   "cell_type": "code",
   "execution_count": null,
   "id": "6d513bd6",
   "metadata": {},
   "outputs": [],
   "source": [
    "<FILL IN>"
   ]
  },
  {
   "cell_type": "markdown",
   "id": "53ea53ae",
   "metadata": {},
   "source": [
    "<div class=\"alert alert-info\"><b> Exercise 7 </b>\n",
    "\n",
    "Define two lists, ```age = [24, 55, 17, 73, 54]``` and ```income = [23000, 60000, 18000, 55000, 38000]```. Define a DataFrame df such that ```data = {'age': age, 'income': income}``` and assign indexes such that ```index = ['John', 'Liza', 'Jane', 'Tom', 'Mark']```. Try to understand what the command ```df.describe()``` does.\n",
    "</div>"
   ]
  },
  {
   "cell_type": "code",
   "execution_count": null,
   "id": "8172403e",
   "metadata": {},
   "outputs": [],
   "source": [
    "<FILL IN>"
   ]
  },
  {
   "cell_type": "markdown",
   "id": "3d50df9a",
   "metadata": {},
   "source": [
    "<div class=\"alert alert-info\"><b> Exercise 8 </b>\n",
    "\n",
    "Take the DataFrame defined above and find the minimum and maximum values for the ```'age'``` column. Also compute the mean for the ```'income'``` column.\n",
    "</div>"
   ]
  },
  {
   "cell_type": "code",
   "execution_count": null,
   "id": "db3d6dcf",
   "metadata": {},
   "outputs": [],
   "source": [
    "<FILL IN>"
   ]
  },
  {
   "cell_type": "markdown",
   "id": "6a5c9133",
   "metadata": {},
   "source": [
    "<div class=\"alert alert-info\"><b> Exercise 9 </b>\n",
    "\n",
    "Filter your DataFrame to select only those entries with an income higher that 25000. Now try filtering your DataFrame to select only those entries such that name is equal to Liza.\n",
    "\n",
    "</div>"
   ]
  },
  {
   "cell_type": "code",
   "execution_count": null,
   "id": "fe3da9da",
   "metadata": {},
   "outputs": [],
   "source": [
    "<FILL IN>"
   ]
  },
  {
   "cell_type": "markdown",
   "id": "103a348c",
   "metadata": {},
   "source": [
    "<div class=\"alert alert-info\"><b> Exercise 10 </b>\n",
    "\n",
    "Filter your DataFrame to select only those entries with an ```income``` higher that 25000 and an ```age``` below 60.\n",
    "\n",
    "</div>"
   ]
  },
  {
   "cell_type": "code",
   "execution_count": null,
   "id": "69273d83",
   "metadata": {},
   "outputs": [],
   "source": [
    "<FILL IN>"
   ]
  },
  {
   "cell_type": "markdown",
   "id": "c1bb8f6f",
   "metadata": {},
   "source": [
    "<div class=\"alert alert-info\"><b> Exercise 11 </b>\n",
    "\n",
    "Add a new column ```'gender'``` that contains the gender of each individual in our DataFrame. Use the ```df.groupby()``` function to group all entries by the new ```'gender'``` column and and compute the aggregated maximum for the remaining columns. Now try to compute the average ```'income'``` by ```'gender'```.\n",
    "\n",
    "</div>"
   ]
  },
  {
   "cell_type": "code",
   "execution_count": null,
   "id": "746d2afc",
   "metadata": {},
   "outputs": [],
   "source": [
    "<FILL IN>"
   ]
  },
  {
   "cell_type": "code",
   "execution_count": null,
   "id": "5edc8432",
   "metadata": {},
   "outputs": [],
   "source": []
  }
 ],
 "metadata": {
  "kernelspec": {
   "display_name": "Python 3",
   "language": "python",
   "name": "python3"
  },
  "language_info": {
   "codemirror_mode": {
    "name": "ipython",
    "version": 3
   },
   "file_extension": ".py",
   "mimetype": "text/x-python",
   "name": "python",
   "nbconvert_exporter": "python",
   "pygments_lexer": "ipython3",
   "version": "3.8.11"
  }
 },
 "nbformat": 4,
 "nbformat_minor": 5
}
